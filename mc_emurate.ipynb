{
 "cells": [
  {
   "cell_type": "code",
   "execution_count": 78,
   "metadata": {},
   "outputs": [],
   "source": [
    "import torch\n",
    "import torchvision\n",
    "import torch.nn  as nn\n",
    "import torch.optim as optim\n",
    "import torch.nn.functional as F\n",
    "import torchvision.transforms as transforms\n",
    "from torchvision import models\n",
    "from torch import Tensor\n",
    "import os\n",
    "import glob\n",
    "import shutil\n",
    "import random\n",
    "import pandas as pd\n",
    "import numpy as np\n",
    "from PIL import Image\n",
    "import matplotlib.pyplot as plt\n",
    "from sklearn.model_selection import train_test_split\n",
    "from tqdm import tqdm"
   ]
  },
  {
   "cell_type": "markdown",
   "metadata": {},
   "source": [
    "## データセットの作成"
   ]
  },
  {
   "cell_type": "code",
   "execution_count": 3,
   "metadata": {},
   "outputs": [],
   "source": [
    "train_vali_df = pd.read_csv(\"./images/train.csv\", index_col=0)\n",
    "test_df = pd.read_csv(\"./images/test.csv\", index_col=0)"
   ]
  },
  {
   "cell_type": "code",
   "execution_count": 5,
   "metadata": {},
   "outputs": [],
   "source": [
    "train_vali_df['class0'] = (train_vali_df['treated_t'] < 0.5) * 1\n",
    "train_vali_df['class1'] = ((train_vali_df['treated_t'] >= 0.5) & (train_vali_df['treated_t'] <= 1.0)) * 1\n",
    "train_vali_df['class2'] = (train_vali_df['treated_t'] > 1.0) * 1"
   ]
  },
  {
   "cell_type": "code",
   "execution_count": 7,
   "metadata": {},
   "outputs": [],
   "source": [
    "test_df['class0'] = (test_df['treated_t'] < 0.5) * 1\n",
    "test_df['class1'] = ((test_df['treated_t'] >= 0.5) & (test_df['treated_t'] <= 1.0)) * 1\n",
    "test_df['class2'] = (test_df['treated_t'] > 1.0) * 1"
   ]
  },
  {
   "cell_type": "code",
   "execution_count": 9,
   "metadata": {},
   "outputs": [],
   "source": [
    "train_df, vali_df = train_test_split(train_vali_df.copy(), test_size=0.15, train_size=0.85, shuffle=True)"
   ]
  },
  {
   "cell_type": "code",
   "execution_count": 10,
   "metadata": {},
   "outputs": [],
   "source": [
    "df_train_0 = train_df.copy()[train_df['class0']==1]\n",
    "df_train_1 = train_df.copy()[train_df['class1']==1]\n",
    "df_train_2 = train_df.copy()[train_df['class2']==1]\n",
    "\n",
    "df_vali_0 = vali_df.copy()[vali_df['class0']==1]\n",
    "df_vali_1 = vali_df.copy()[vali_df['class1']==1]\n",
    "df_vali_2 = vali_df.copy()[vali_df['class2']==1]\n",
    "\n",
    "df_test_0 = test_df.copy()[test_df['class0']==1]\n",
    "df_test_1 = test_df.copy()[test_df['class1']==1]\n",
    "df_test_2 = test_df.copy()[test_df['class2']==1]"
   ]
  },
  {
   "cell_type": "code",
   "execution_count": 11,
   "metadata": {},
   "outputs": [
    {
     "name": "stdout",
     "output_type": "stream",
     "text": [
      "========train==========\n",
      "425\n",
      "423\n",
      "427\n",
      "=========vali=========\n",
      "75\n",
      "77\n",
      "73\n",
      "=========test=========\n",
      "200\n",
      "200\n",
      "200\n"
     ]
    }
   ],
   "source": [
    "print(\"========train==========\")\n",
    "print(df_train_0['class0'].sum())\n",
    "print(df_train_1['class1'].sum())\n",
    "print(df_train_2['class2'].sum())\n",
    "print(\"=========vali=========\")\n",
    "print(df_vali_0['class0'].sum())\n",
    "print(df_vali_1['class1'].sum())\n",
    "print(df_vali_2['class2'].sum())\n",
    "print(\"=========test=========\")\n",
    "print(df_test_0['class0'].sum())\n",
    "print(df_test_1['class1'].sum())\n",
    "print(df_test_2['class2'].sum())"
   ]
  },
  {
   "cell_type": "code",
   "execution_count": 12,
   "metadata": {},
   "outputs": [],
   "source": [
    "\n",
    "df_train_0_under = df_train_0.copy().sample(n=423)\n",
    "df_train_1_under = df_train_1.copy().sample(n=423)\n",
    "df_train_2_under = df_train_2.copy().sample(n=423)\n",
    "\n",
    "df_vali_0_under = df_vali_0.copy().sample(n=73)\n",
    "df_vali_1_under = df_vali_1.copy().sample(n=73)\n",
    "df_vali_2_under = df_vali_2.copy().sample(n=73)"
   ]
  },
  {
   "cell_type": "code",
   "execution_count": 14,
   "metadata": {},
   "outputs": [
    {
     "name": "stdout",
     "output_type": "stream",
     "text": [
      "========train==========\n",
      "423\n",
      "423\n",
      "423\n",
      "=========vali=========\n",
      "73\n",
      "73\n",
      "73\n",
      "=========test=========\n",
      "200\n",
      "200\n",
      "200\n"
     ]
    }
   ],
   "source": [
    "print(\"========train==========\")\n",
    "print(df_train_0_under['class0'].sum())\n",
    "print(df_train_1_under['class1'].sum())\n",
    "print(df_train_2_under['class2'].sum())\n",
    "print(\"=========vali=========\")\n",
    "print(df_vali_0_under['class0'].sum())\n",
    "print(df_vali_1_under['class1'].sum())\n",
    "print(df_vali_2_under['class2'].sum())\n",
    "print(\"=========test=========\")\n",
    "print(df_test_0['class0'].sum())\n",
    "print(df_test_1['class1'].sum())\n",
    "print(df_test_2['class2'].sum())"
   ]
  },
  {
   "cell_type": "code",
   "execution_count": 15,
   "metadata": {},
   "outputs": [],
   "source": [
    "df_train_0_under.to_csv('./images/csv/train0_under.csv')\n",
    "df_train_1_under.to_csv('./images/csv/train1_under.csv')\n",
    "df_train_2_under.to_csv('./images/csv/train2_under.csv')\n",
    "\n",
    "df_vali_0_under.to_csv('./images/csv/vali0_under.csv')\n",
    "df_vali_1_under.to_csv('./images/csv/vali1_under.csv')\n",
    "df_vali_2_under.to_csv('./images/csv/vali2_under.csv')\n",
    "\n",
    "df_test_0.to_csv('./images/csv/test0_under.csv')\n",
    "df_test_1.to_csv('./images/csv/test1_under.csv')\n",
    "df_test_2.to_csv('./images/csv/test2_under.csv')"
   ]
  },
  {
   "cell_type": "markdown",
   "metadata": {},
   "source": [
    "## カスタムデータセットとデータローダー"
   ]
  },
  {
   "cell_type": "code",
   "execution_count": 16,
   "metadata": {},
   "outputs": [],
   "source": [
    "data_transforms = transforms.Compose([\n",
    "    transforms.ToTensor(),\n",
    "])\n",
    "\n",
    "class CustomDataset(torch.utils.data.Dataset): \n",
    "\tclasses = ['0', '1', '2']\n",
    "\t\n",
    "\tdef __init__(self, path_lst, img_path, transform=None):\n",
    "\t\t'''\n",
    "\t\tpath_lst:\n",
    "\t\t-\tclass0_under.csv\n",
    "\t\t-\tclass1_under.csv\n",
    "\t\t-\tclass2_under.csv\n",
    "\t\timg_path: 画像が保存されているパス\n",
    "\t\t'''\n",
    "\t\tself.img_path = img_path\n",
    "\t\tself.transform = transform\n",
    "\t\tself.images = []\n",
    "\t\tself.labels = []\n",
    "\t\tdf_0 = pd.read_csv(path_lst[0], index_col=0)\n",
    "\t\tdf_1 = pd.read_csv(path_lst[1], index_col=0)\n",
    "\t\tdf_2 = pd.read_csv(path_lst[2], index_col=0)\n",
    "\t\tself.images = list(df_0['img_path']) + list(df_1['img_path']) +  list(df_2['img_path'])\n",
    "\t\tself.labels = list(df_0['class0'] * 0) + list(df_1['class1'] * 1) + list(df_2['class2'] * 2) \n",
    "\n",
    "\tdef __getitem__(self, index):\n",
    "\t\timage = self.images[index]\n",
    "\t\timage = os.path.join(self.img_path, image)\n",
    "\t\tlabel = self.labels[index]\n",
    "\t\twith open(image, 'rb') as f:\n",
    "\t\t\timage = Image.open(f)\n",
    "\t\t\timage = image.convert('RGB')\n",
    "\t\tif self.transform is not None:\n",
    "\t\t\timage = self.transform(image)\n",
    "\t\treturn image, label\n",
    "\n",
    "\tdef __len__(self):\n",
    "\t\treturn len(self.images)"
   ]
  },
  {
   "cell_type": "code",
   "execution_count": 53,
   "metadata": {},
   "outputs": [],
   "source": [
    "train_path_lst = [\n",
    "\t'./images/csv/train0_under.csv',\n",
    "\t'./images/csv/train1_under.csv', \n",
    "\t'./images/csv/train2_under.csv']\n",
    "custom_train_dataset = CustomDataset(train_path_lst, './images/train', data_transforms)\n",
    "\n",
    "vali_path_lst = [\n",
    "\t'./images/csv/vali0_under.csv',\n",
    "\t'./images/csv/vali1_under.csv', \n",
    "\t'./images/csv/vali2_under.csv']\n",
    "custom_vali_dataset = CustomDataset(vali_path_lst, './images/train', data_transforms)\n",
    "\n",
    "test_path_lst = [\n",
    "\t'./images/csv/test0_under.csv',\n",
    "\t'./images/csv/test1_under.csv', \n",
    "\t'./images/csv/test2_under.csv']\n",
    "custom_test_dataset = CustomDataset(test_path_lst, './images/test', data_transforms)"
   ]
  },
  {
   "cell_type": "code",
   "execution_count": 54,
   "metadata": {},
   "outputs": [],
   "source": [
    "train_loader = torch.utils.data.DataLoader(\n",
    "\tdataset=custom_train_dataset,\n",
    "\tbatch_size=32,\n",
    "\tshuffle=True\n",
    ")\n",
    "\n",
    "vali_loader = torch.utils.data.DataLoader(\n",
    "\tdataset=custom_vali_dataset,\n",
    "\tbatch_size=32,\n",
    "\tshuffle=False\n",
    ")\n",
    "\n",
    "test_loader = torch.utils.data.DataLoader(\n",
    "\tdataset=custom_test_dataset,\n",
    "\tbatch_size=32,\n",
    "\tshuffle=False\n",
    ")"
   ]
  },
  {
   "cell_type": "markdown",
   "metadata": {},
   "source": [
    "## ネットワーク定義"
   ]
  },
  {
   "cell_type": "code",
   "execution_count": 88,
   "metadata": {},
   "outputs": [],
   "source": [
    "class MC_Dropout2d(nn.modules.dropout._DropoutNd):\n",
    "    def __init__(self):\n",
    "        super().__init__()\n",
    "    def forward(self, input:Tensor) -> Tensor:\n",
    "        return F.dropout2d(input, self.p, True, self.inplace)"
   ]
  },
  {
   "cell_type": "code",
   "execution_count": 89,
   "metadata": {},
   "outputs": [],
   "source": [
    "import torch\n",
    "import torchvision\n",
    "import torch.nn  as nn\n",
    "import torch.optim as optim\n",
    "import torch.nn.functional as F\n",
    "import torchvision.transforms as transforms\n",
    "from torchvision import models\n",
    "\n",
    "def conv3x3(in_planes, out_planes, stride=1, groups=1, dilation=1):\n",
    "    return nn.Conv2d(in_planes, out_planes, kernel_size=3, stride=stride,\n",
    "                     padding=dilation, groups=groups, bias=False, dilation=dilation)\n",
    "\n",
    "\n",
    "def conv1x1(in_planes, out_planes, stride=1):\n",
    "    return nn.Conv2d(in_planes, out_planes, kernel_size=1, stride=stride, bias=False)\n",
    "\n",
    "class MyBasicBlock(nn.Module):\n",
    "\n",
    "    def __init__(self, inplanes, planes, stride=1, downsample=None, groups=1,\n",
    "                 base_width=64, dilation=1, norm_layer=None):\n",
    "        super(MyBasicBlock, self).__init__()\n",
    "        if norm_layer is None:\n",
    "            norm_layer = nn.BatchNorm2d\n",
    "        if groups != 1 or base_width != 64:\n",
    "            raise ValueError('BasicBlock only supports groups=1 and base_width=64')\n",
    "        if dilation > 1:\n",
    "            raise NotImplementedError(\"Dilation > 1 not supported in BasicBlock\")\n",
    "        self.conv1 = models.conv3x3(inplanes, planes, stride)\n",
    "        self.bn1 = norm_layer(planes)\n",
    "        self.relu = nn.ReLU(inplace=True)\n",
    "        self.conv2 = models.conv3x3(planes, planes)\n",
    "        self.bn2 = norm_layer(planes)\n",
    "        self.downsample = downsample\n",
    "        self.stride = stride\n",
    "\n",
    "    def forward(self, x):\n",
    "        identity = x\n",
    "        out = self.conv1(x)\n",
    "        out = self.bn1(out)\n",
    "        out = self.relu(out)\n",
    "        out = self.conv2(out)\n",
    "        out = self.bn2(out)\n",
    "        if self.downsample is not None:\n",
    "            identity = self.downsample(x)\n",
    "        out += identity\n",
    "        out = self.relu(out)\n",
    "        return out\n",
    "\n",
    "\n",
    "class MyBottleneck(nn.Module):\n",
    "\n",
    "    expansion = 4\n",
    "\n",
    "    def __init__(self, inplanes, planes, stride=1, downsample=None, groups=1,\n",
    "                 base_width=64, dilation=1, norm_layer=None):\n",
    "        super(MyBottleneck, self).__init__()\n",
    "        if norm_layer is None:\n",
    "            norm_layer = nn.BatchNorm2d\n",
    "        width = int(planes * (base_width / 64.)) * groups\n",
    "        self.conv1 = conv1x1(inplanes, width)\n",
    "        #mc\n",
    "        #self.mcdrop1 = nn.Dropout2d()\n",
    "        self.mcdrop1 = MC_Dropout2d()\n",
    "\n",
    "        self.bn1 = norm_layer(width)\n",
    "        self.conv2 = conv3x3(width, width, stride, groups, dilation)\n",
    "        #mc\n",
    "        self.mcdrop2 = MC_Dropout2d()\n",
    "\n",
    "        self.bn2 = norm_layer(width)\n",
    "        self.conv3 = conv1x1(width, planes * self.expansion)\n",
    "        #mc\n",
    "        self.mcdrop3 = MC_Dropout2d()\n",
    "\n",
    "        self.bn3 = norm_layer(planes * self.expansion)\n",
    "        self.relu = nn.ReLU(inplace=True)\n",
    "        self.downsample = downsample\n",
    "        self.stride = stride\n",
    "\n",
    "    def forward(self, x):\n",
    "        identity = x\n",
    "        out = self.conv1(x)\n",
    "        #mc\n",
    "        out = self.mcdrop1(out)\n",
    "\n",
    "        out = self.bn1(out)\n",
    "        out = self.relu(out)\n",
    "        out = self.conv2(out)\n",
    "        #mc\n",
    "        out = self.mcdrop3(out)\n",
    "\n",
    "        out = self.bn2(out)\n",
    "        out = self.relu(out)\n",
    "        out = self.conv3(out)\n",
    "        #mc\n",
    "        out = self.mcdrop3(out)\n",
    "\n",
    "        out = self.bn3(out)\n",
    "        if self.downsample is not None:\n",
    "            identity = self.downsample(x)\n",
    "        out += identity\n",
    "        out = self.relu(out)\n",
    "        return out\n",
    "\n",
    "class MyResNet(nn.Module):\n",
    "\n",
    "    def __init__(self, block, layers, num_classes=3, zero_init_residual=False,\n",
    "                 groups=1, width_per_group=64, replace_stride_with_dilation=None,\n",
    "                 norm_layer=None):\n",
    "        super(MyResNet, self).__init__()\n",
    "        if norm_layer is None:\n",
    "            norm_layer = nn.BatchNorm2d\n",
    "        self._norm_layer = norm_layer\n",
    "\n",
    "        self.inplanes = 64\n",
    "        self.dilation = 1\n",
    "        if replace_stride_with_dilation is None:\n",
    "            replace_stride_with_dilation = [False, False, False]\n",
    "        if len(replace_stride_with_dilation) != 3:\n",
    "            raise ValueError(\"replace_stride_with_dilation should be None \"\n",
    "                             \"or a 3-element tuple, got {}\".format(replace_stride_with_dilation))\n",
    "        self.groups = groups\n",
    "        self.base_width = width_per_group\n",
    "        self.conv1 = nn.Conv2d(3, self.inplanes, kernel_size=7, stride=2, padding=3,\n",
    "                               bias=False)\n",
    "        self.bn1 = norm_layer(self.inplanes)\n",
    "        self.relu1 = nn.ReLU(inplace=True)\n",
    "        self.maxpool = nn.MaxPool2d(kernel_size=3, stride=2, padding=1)\n",
    "        self.layer1 = self._make_layer(block, 64, layers[0])\n",
    "        self.layer2 = self._make_layer(block, 128, layers[1], stride=2,\n",
    "                                       dilate=replace_stride_with_dilation[0])\n",
    "        self.layer3 = self._make_layer(block, 256, layers[2], stride=2,\n",
    "                                       dilate=replace_stride_with_dilation[1])\n",
    "        self.layer4 = self._make_layer(block, 512, layers[3], stride=2,\n",
    "                                       dilate=replace_stride_with_dilation[2])\n",
    "        self.avgpool = nn.AdaptiveAvgPool2d((1, 1))\n",
    "        #self.fc1 = nn.Linear(512 * block.expansion, num_classes)\n",
    "        #↑純粋なResNet50\n",
    "        '''\n",
    "        Customize↓\n",
    "        '''\n",
    "        self.relu2 = nn.ReLU(inplace=True)\n",
    "        self.fc1 = nn.Linear(512 * block.expansion, 512)\n",
    "        self.relu3 = nn.ReLU(inplace=True)\n",
    "        self.dropout1 = MC_Dropout2d()\n",
    "        self.fc2 = nn.Linear(512, 128)\n",
    "        self.relu3 = nn.ReLU(inplace=True)\n",
    "        self.dropout2 = nn.Dropout(0.2)\n",
    "        self.bn2 = nn.BatchNorm1d(128)\n",
    "        self.fc3 = nn.Linear(128, num_classes)\n",
    "        '''\n",
    "        Customize↑\n",
    "        '''\n",
    "        for m in self.modules():\n",
    "            if isinstance(m, nn.Conv2d):\n",
    "                nn.init.kaiming_normal_(m.weight, mode='fan_out', nonlinearity='relu')\n",
    "            elif isinstance(m, (nn.BatchNorm2d, nn.GroupNorm)):\n",
    "                nn.init.constant_(m.weight, 1)\n",
    "                nn.init.constant_(m.bias, 0)\n",
    "\n",
    "        if zero_init_residual:\n",
    "            for m in self.modules():\n",
    "                if isinstance(m, MyBottleneck):\n",
    "                    nn.init.constant_(m.bn3.weight, 0)\n",
    "                elif isinstance(m, MyBasicBlock):\n",
    "                    nn.init.constant_(m.bn2.weight, 0)\n",
    "\n",
    "    def _make_layer(self, block, planes, blocks, stride=1, dilate=False):\n",
    "        norm_layer = self._norm_layer\n",
    "        downsample = None\n",
    "        previous_dilation = self.dilation\n",
    "        if dilate:\n",
    "            self.dilation *= stride\n",
    "            stride = 1\n",
    "        if stride != 1 or self.inplanes != planes * block.expansion:\n",
    "            downsample = nn.Sequential(\n",
    "                conv1x1(self.inplanes, planes * block.expansion, stride),\n",
    "                norm_layer(planes * block.expansion),\n",
    "            )\n",
    "\n",
    "        layers = []\n",
    "        layers.append(block(self.inplanes, planes, stride, downsample, self.groups,\n",
    "                            self.base_width, previous_dilation, norm_layer))\n",
    "        self.inplanes = planes * block.expansion\n",
    "        for _ in range(1, blocks):\n",
    "            layers.append(block(self.inplanes, planes, groups=self.groups,\n",
    "                                base_width=self.base_width, dilation=self.dilation,\n",
    "                                norm_layer=norm_layer))\n",
    "\n",
    "        return nn.Sequential(*layers)\n",
    "\n",
    "    def _forward_impl(self, x):\n",
    "        # See note [TorchScript super()]\n",
    "        x = self.conv1(x)\n",
    "        x = self.bn1(x)\n",
    "        x = self.relu1(x)\n",
    "        x = self.maxpool(x)\n",
    "\n",
    "        x = self.layer1(x)\n",
    "        x = self.layer2(x)\n",
    "        x = self.layer3(x)\n",
    "        x = self.layer4(x)\n",
    "\n",
    "        x = self.avgpool(x)\n",
    "        x = torch.flatten(x, 1)\n",
    "        #x = self.fc1(x)\n",
    "        '''\n",
    "        custom↓\n",
    "        '''\n",
    "        x = self.relu2(x)\n",
    "        x = self.fc1(x)\n",
    "        x = self.relu3(x)\n",
    "        x = self.dropout1(x)\n",
    "        x = self.fc2(x)\n",
    "        x = self.dropout2(x)\n",
    "        x = self.bn2(x)\n",
    "        x = self.fc3(x)\n",
    "        return x\n",
    "\n",
    "    def forward(self, x):\n",
    "        return self._forward_impl(x)\n"
   ]
  },
  {
   "cell_type": "code",
   "execution_count": 90,
   "metadata": {},
   "outputs": [],
   "source": [
    "device = 'cuda' if torch.cuda.is_available() else 'cpu'\n",
    "net = MyResNet(MyBottleneck, [3, 4, 6, 3]).to(device)\n",
    "criterion = nn.CrossEntropyLoss()\n",
    "optimizer = optim.Adam(net.parameters(), lr=0.001, weight_decay=0.1)\n",
    "\n",
    "num_epoch = 10"
   ]
  },
  {
   "cell_type": "code",
   "execution_count": 81,
   "metadata": {},
   "outputs": [],
   "source": [
    "state_dict = torch.hub.load_state_dict_from_url('https://download.pytorch.org/models/resnet50-19c8e357.pth')"
   ]
  },
  {
   "cell_type": "code",
   "execution_count": 82,
   "metadata": {},
   "outputs": [
    {
     "ename": "RuntimeError",
     "evalue": "Error(s) in loading state_dict for MyResNet:\n\tMissing key(s) in state_dict: \"fc1.weight\", \"fc1.bias\", \"fc2.weight\", \"fc2.bias\", \"bn2.weight\", \"bn2.bias\", \"bn2.running_mean\", \"bn2.running_var\", \"fc3.weight\", \"fc3.bias\". \n\tUnexpected key(s) in state_dict: \"fc.weight\", \"fc.bias\". ",
     "output_type": "error",
     "traceback": [
      "\u001b[0;31m---------------------------------------------------------------------------\u001b[0m",
      "\u001b[0;31mRuntimeError\u001b[0m                              Traceback (most recent call last)",
      "\u001b[0;32m<ipython-input-82-e34fbb7bfcc3>\u001b[0m in \u001b[0;36m<module>\u001b[0;34m\u001b[0m\n\u001b[0;32m----> 1\u001b[0;31m \u001b[0mnet\u001b[0m\u001b[0;34m.\u001b[0m\u001b[0mload_state_dict\u001b[0m\u001b[0;34m(\u001b[0m\u001b[0mstate_dict\u001b[0m\u001b[0;34m)\u001b[0m\u001b[0;34m\u001b[0m\u001b[0;34m\u001b[0m\u001b[0m\n\u001b[0m",
      "\u001b[0;32m~/.pyenv/versions/3.6.8/lib/python3.6/site-packages/torch/nn/modules/module.py\u001b[0m in \u001b[0;36mload_state_dict\u001b[0;34m(self, state_dict, strict)\u001b[0m\n\u001b[1;32m   1050\u001b[0m         \u001b[0;32mif\u001b[0m \u001b[0mlen\u001b[0m\u001b[0;34m(\u001b[0m\u001b[0merror_msgs\u001b[0m\u001b[0;34m)\u001b[0m \u001b[0;34m>\u001b[0m \u001b[0;36m0\u001b[0m\u001b[0;34m:\u001b[0m\u001b[0;34m\u001b[0m\u001b[0;34m\u001b[0m\u001b[0m\n\u001b[1;32m   1051\u001b[0m             raise RuntimeError('Error(s) in loading state_dict for {}:\\n\\t{}'.format(\n\u001b[0;32m-> 1052\u001b[0;31m                                self.__class__.__name__, \"\\n\\t\".join(error_msgs)))\n\u001b[0m\u001b[1;32m   1053\u001b[0m         \u001b[0;32mreturn\u001b[0m \u001b[0m_IncompatibleKeys\u001b[0m\u001b[0;34m(\u001b[0m\u001b[0mmissing_keys\u001b[0m\u001b[0;34m,\u001b[0m \u001b[0munexpected_keys\u001b[0m\u001b[0;34m)\u001b[0m\u001b[0;34m\u001b[0m\u001b[0;34m\u001b[0m\u001b[0m\n\u001b[1;32m   1054\u001b[0m \u001b[0;34m\u001b[0m\u001b[0m\n",
      "\u001b[0;31mRuntimeError\u001b[0m: Error(s) in loading state_dict for MyResNet:\n\tMissing key(s) in state_dict: \"fc1.weight\", \"fc1.bias\", \"fc2.weight\", \"fc2.bias\", \"bn2.weight\", \"bn2.bias\", \"bn2.running_mean\", \"bn2.running_var\", \"fc3.weight\", \"fc3.bias\". \n\tUnexpected key(s) in state_dict: \"fc.weight\", \"fc.bias\". "
     ]
    }
   ],
   "source": [
    "net.load_state_dict(state_dict)"
   ]
  },
  {
   "cell_type": "markdown",
   "metadata": {},
   "source": [
    "## 学習"
   ]
  },
  {
   "cell_type": "code",
   "execution_count": 62,
   "metadata": {},
   "outputs": [
    {
     "name": "stderr",
     "output_type": "stream",
     "text": [
      "100%|██████████| 40/40 [11:52<00:00, 17.80s/it]\n"
     ]
    },
    {
     "name": "stdout",
     "output_type": "stream",
     "text": [
      "Epoch [1/10], train_loss: 0.036154, test_loss: 0.036126, train_acc: 0.407407, test_acc: 0.333333\n"
     ]
    },
    {
     "name": "stderr",
     "output_type": "stream",
     "text": [
      "100%|██████████| 40/40 [14:52<00:00, 22.31s/it]\n"
     ]
    },
    {
     "name": "stdout",
     "output_type": "stream",
     "text": [
      "Epoch [2/10], train_loss: 0.032877, test_loss: 0.037149, train_acc: 0.476753, test_acc: 0.333333\n"
     ]
    },
    {
     "name": "stderr",
     "output_type": "stream",
     "text": [
      "100%|██████████| 40/40 [12:28<00:00, 18.71s/it]\n"
     ]
    },
    {
     "name": "stdout",
     "output_type": "stream",
     "text": [
      "Epoch [3/10], train_loss: 0.031722, test_loss: 0.039312, train_acc: 0.479117, test_acc: 0.333333\n"
     ]
    },
    {
     "name": "stderr",
     "output_type": "stream",
     "text": [
      "100%|██████████| 40/40 [16:58<00:00, 25.46s/it]\n"
     ]
    },
    {
     "name": "stdout",
     "output_type": "stream",
     "text": [
      "Epoch [4/10], train_loss: 0.031440, test_loss: 0.040213, train_acc: 0.505122, test_acc: 0.333333\n"
     ]
    },
    {
     "name": "stderr",
     "output_type": "stream",
     "text": [
      "100%|██████████| 40/40 [09:52<00:00, 14.82s/it]\n"
     ]
    },
    {
     "name": "stdout",
     "output_type": "stream",
     "text": [
      "Epoch [5/10], train_loss: 0.030581, test_loss: 0.033862, train_acc: 0.516942, test_acc: 0.442922\n"
     ]
    },
    {
     "name": "stderr",
     "output_type": "stream",
     "text": [
      "100%|██████████| 40/40 [09:38<00:00, 14.46s/it]\n"
     ]
    },
    {
     "name": "stdout",
     "output_type": "stream",
     "text": [
      "Epoch [6/10], train_loss: 0.030617, test_loss: 0.034718, train_acc: 0.506698, test_acc: 0.351598\n"
     ]
    },
    {
     "name": "stderr",
     "output_type": "stream",
     "text": [
      "100%|██████████| 40/40 [08:45<00:00, 13.15s/it]\n"
     ]
    },
    {
     "name": "stdout",
     "output_type": "stream",
     "text": [
      "Epoch [7/10], train_loss: 0.030116, test_loss: 0.039104, train_acc: 0.516942, test_acc: 0.369863\n"
     ]
    },
    {
     "name": "stderr",
     "output_type": "stream",
     "text": [
      "100%|██████████| 40/40 [09:03<00:00, 13.59s/it]\n"
     ]
    },
    {
     "name": "stdout",
     "output_type": "stream",
     "text": [
      "Epoch [8/10], train_loss: 0.030053, test_loss: 0.037242, train_acc: 0.519307, test_acc: 0.347032\n"
     ]
    },
    {
     "name": "stderr",
     "output_type": "stream",
     "text": [
      "100%|██████████| 40/40 [09:39<00:00, 14.50s/it]\n"
     ]
    },
    {
     "name": "stdout",
     "output_type": "stream",
     "text": [
      "Epoch [9/10], train_loss: 0.030478, test_loss: 0.038441, train_acc: 0.512214, test_acc: 0.347032\n"
     ]
    },
    {
     "name": "stderr",
     "output_type": "stream",
     "text": [
      "100%|██████████| 40/40 [08:49<00:00, 13.23s/it]\n"
     ]
    },
    {
     "name": "stdout",
     "output_type": "stream",
     "text": [
      "Epoch [10/10], train_loss: 0.029907, test_loss: 0.031913, train_acc: 0.542159, test_acc: 0.497717\n"
     ]
    }
   ],
   "source": [
    "train_loss_list = []\n",
    "train_acc_list = []\n",
    "val_loss_list = []\n",
    "val_acc_list = []\n",
    "for epoch in range(num_epoch):\n",
    "    train_loss = 0.0\n",
    "    train_acc = 0.0\n",
    "    val_loss = 0.0\n",
    "    val_acc = 0.0\n",
    "    net.train()\n",
    "    for i, (images, labels) in enumerate(tqdm(train_loader)):\n",
    "        images, labels = images.to(device), labels.to(device)\n",
    "        optimizer.zero_grad()\n",
    "        outputs = net(images)\n",
    "        loss = criterion(outputs, labels)\n",
    "        train_loss += loss.item()\n",
    "        train_acc += (outputs.max(1)[1] == labels).sum().item()\n",
    "        loss.backward()\n",
    "        optimizer.step()\n",
    "    avg_train_loss = train_loss / len(train_loader.dataset)\n",
    "    avg_train_acc = train_acc / len(train_loader.dataset)\n",
    "    net.eval()\n",
    "    with torch.no_grad():\n",
    "        for images, labels in vali_loader:\n",
    "            images, labels = images.to(device), labels.to(device)\n",
    "            outputs = net(images)\n",
    "            loss = criterion(outputs, labels)\n",
    "            val_loss += loss.item()\n",
    "            val_acc += (outputs.max(1)[1] == labels).sum().item()\n",
    "        avg_val_loss = val_loss / len(vali_loader.dataset)\n",
    "        avg_val_acc = val_acc / len(vali_loader.dataset)\n",
    "    print(\"Epoch [{}/{}], train_loss: {:4f}, val_loss: {:4f}, train_acc: {:4f}, val_acc: {:4f}\".format(\n",
    "        epoch+1, num_epoch, avg_train_loss, avg_val_loss, avg_train_acc, avg_val_acc\n",
    "    ))\n",
    "    train_loss_list.append(avg_train_loss)\n",
    "    train_acc_list.append(avg_train_acc)\n",
    "    val_loss_list.append(avg_val_loss)\n",
    "    val_acc_list.append(avg_val_acc)"
   ]
  },
  {
   "cell_type": "code",
   "execution_count": 91,
   "metadata": {},
   "outputs": [],
   "source": [
    "from debuet.mytorch.utils import utils"
   ]
  },
  {
   "cell_type": "code",
   "execution_count": 92,
   "metadata": {},
   "outputs": [
    {
     "data": {
      "text/plain": [
       "<All keys matched successfully>"
      ]
     },
     "execution_count": 92,
     "metadata": {},
     "output_type": "execute_result"
    }
   ],
   "source": [
    "net.load_state_dict(torch.load('first_mcdrop.pth'))"
   ]
  },
  {
   "cell_type": "code",
   "execution_count": 67,
   "metadata": {},
   "outputs": [
    {
     "data": {
      "image/png": "[encoded data removed]",
      "text/plain": [
       "<Figure size 432x288 with 1 Axes>"
      ]
     },
     "metadata": {
      "needs_background": "light"
     },
     "output_type": "display_data"
    },
    {
     "data": {
      "image/png": "[encoded data removed]",
      "text/plain": [
       "<Figure size 432x288 with 1 Axes>"
      ]
     },
     "metadata": {
      "needs_background": "light"
     },
     "output_type": "display_data"
    }
   ],
   "source": [
    "utils.plot_epoch_to_loss_acc(\n",
    "\tnum_epoch, \n",
    "\ttrain_loss_list, \n",
    "\tval_loss_list, \n",
    "\ttrain_acc_list, \n",
    "\tval_acc_list\n",
    ")"
   ]
  },
  {
   "cell_type": "code",
   "execution_count": 63,
   "metadata": {},
   "outputs": [],
   "source": [
    "torch.save(net.state_dict(), \"first_mcdrop.pth\")"
   ]
  },
  {
   "cell_type": "markdown",
   "metadata": {},
   "source": [
    "## モデルの評価"
   ]
  },
  {
   "cell_type": "code",
   "execution_count": 96,
   "metadata": {},
   "outputs": [],
   "source": [
    "test_loader = torch.utils.data.DataLoader(\n",
    "\tdataset=custom_test_dataset,\n",
    "\tbatch_size=1,\n",
    "\tshuffle=False\n",
    ")"
   ]
  },
  {
   "cell_type": "code",
   "execution_count": null,
   "metadata": {},
   "outputs": [],
   "source": [
    "import statistics\n",
    "\n",
    "label_lst = []\n",
    "predict_lst = []\n",
    "data_uncertainty_lst = []\n",
    "model_uncertainty_lst = []\n",
    "softmax = nn.Softmax(dim=1)\n",
    "net.eval()\n",
    "for images, labels in tqdm(test_loader):\n",
    "    images = images.to(device)\n",
    "    class0_lst = []\n",
    "    class1_lst = []\n",
    "    class2_lst = []\n",
    "    for i in range(10):\n",
    "        output = softmax(net(images))[0]\n",
    "        class0_lst.append(float(output[0]))\n",
    "        class1_lst.append(float(output[1]))\n",
    "        class2_lst.append(float(output[2]))\n",
    "    mean_lst = [\n",
    "        statistics.mean(class0_lst),\n",
    "        statistics.mean(class1_lst),\n",
    "        statistics.mean(class2_lst)\n",
    "    ]\n",
    "    max_mean = max(mean_lst)\n",
    "    predict_lst.append(mean_lst.index(max_mean))\n",
    "    data_uncertainty_lst.append(max_mean)\n",
    "    var_lst = [\n",
    "        statistics.variance(class0_lst),\n",
    "        statistics.variance(class1_lst),\n",
    "        statistics.variance(class2_lst)\n",
    "    ]\n",
    "    model_uncertainty_lst.append(sum(var_lst))\n",
    "    label_lst.append(int(labels.to('cpu').detach().numpy().copy()))\n",
    "\n",
    "print(label_lst)\n",
    "print(predict_lst)\n",
    "print(data_uncertainty_lst)\n",
    "print(model_uncertainty_lst)"
   ]
  },
  {
   "cell_type": "code",
   "execution_count": 120,
   "metadata": {},
   "outputs": [
    {
     "name": "stdout",
     "output_type": "stream",
     "text": [
      "test_acc:  0.5058430717863105\n"
     ]
    }
   ],
   "source": [
    "cnt = 0\n",
    "for counter in range(len(predict_lst)):\n",
    "    if predict_lst[counter] == label_lst[counter]:\n",
    "        cnt += 1\n",
    "print(\"test_acc: \", cnt / counter)"
   ]
  },
  {
   "cell_type": "code",
   "execution_count": 226,
   "metadata": {},
   "outputs": [],
   "source": [
    "correct_model_un = []\n",
    "incorrect_model_un = []\n",
    "correct_data_un = []\n",
    "incorrect_data_un = []\n",
    "outcome_lst = []\n",
    "for i in range(len(label_lst)):\n",
    "    if (label_lst[i] == predict_lst[i]):\n",
    "        correct_model_un.append(model_uncertainty_lst[i])\n",
    "        correct_data_un.append(data_uncertainty_lst[i])\n",
    "        outcome_lst.append(1)\n",
    "    else:\n",
    "        incorrect_model_un.append(model_uncertainty_lst[i])\n",
    "        incorrect_data_un.append(data_uncertainty_lst[i])\n",
    "        outcome_lst.append(0)"
   ]
  },
  {
   "cell_type": "code",
   "execution_count": 220,
   "metadata": {},
   "outputs": [],
   "source": [
    "def plot_hist_line(correct_lst, incorrect_lst, min_, max_, bandwidth):\n",
    "    fig = plt.figure()\n",
    "    ax1 = fig.add_subplot(111)\n",
    "    ax1.hist(correct_lst, alpha=0.3, label=\"correct\")\n",
    "    ax1.hist(incorrect_lst, alpha=0.3, label=\"error\")\n",
    "    ax1.set_xlabel(\"model uncertainty\")\n",
    "    ax1.set_ylabel(\"density\")\n",
    "    plt.legend()\n",
    "    ax2 = ax1.twinx()\n",
    "    x = np.linspace(min_, max_, 2000)[:,None]\n",
    "    df_co = pd.DataFrame()\n",
    "    df_co['correct'] = correct_lst\n",
    "    kde1 = KernelDensity(kernel='gaussian', bandwidth=bandwidth).fit(np.array(df_co['correct'][:,None]))\n",
    "    dens1 = kde1.score_samples(x)\n",
    "    ax2.plot(x, np.exp(dens1))\n",
    "    df_in = pd.DataFrame()\n",
    "    df_in['incorrect'] = incorrect_lst\n",
    "    kde2 = KernelDensity(kernel='gaussian', bandwidth=bandwidth).fit(np.array(df_in['incorrect'][:,None]))\n",
    "    dens2 = kde2.score_samples(x)\n",
    "    ax2.plot(x, np.exp(dens2))"
   ]
  },
  {
   "cell_type": "code",
   "execution_count": 221,
   "metadata": {},
   "outputs": [
    {
     "data": {
      "image/png": "[encoded data removed]",
      "text/plain": [
       "<Figure size 432x288 with 2 Axes>"
      ]
     },
     "metadata": {
      "needs_background": "light"
     },
     "output_type": "display_data"
    }
   ],
   "source": [
    "plot_hist_line(correct_model_un, incorrect_model_un, -0.01, 0.11, 0.005)"
   ]
  },
  {
   "cell_type": "code",
   "execution_count": 224,
   "metadata": {},
   "outputs": [
    {
     "data": {
      "image/png": "[encoded data removed]",
      "text/plain": [
       "<Figure size 432x288 with 2 Axes>"
      ]
     },
     "metadata": {
      "needs_background": "light"
     },
     "output_type": "display_data"
    }
   ],
   "source": [
    "plot_hist_line(correct_data_un, incorrect_data_un, 0.2, 1.1, 0.035)"
   ]
  },
  {
   "cell_type": "code",
   "execution_count": 230,
   "metadata": {},
   "outputs": [],
   "source": [
    "from sklearn.metrics import roc_curve, roc_auc_score\n",
    "def plt_roc_auc(outcome_lst, model_uncertainty_lst, data_uncertainty_lst):\n",
    "    fpr, tpr, _ = roc_curve(outcome_lst, model_uncertainty_lst)\n",
    "    plt.plot(fpr, tpr, label='model uncertainty')\n",
    "    plt.fill_between(fpr, tpr, 0, alpha=0.3)\n",
    "    fpr, tpr, _ = roc_curve(outcome_lst, data_uncertainty_lst)\n",
    "    plt.plot(fpr, tpr, label='data uncertainty')\n",
    "    plt.fill_between(fpr, tpr, 0, alpha=0.3)\n",
    "    plt.xlabel('FPR')\n",
    "    plt.ylabel('TPR')\n",
    "    plt.legend()\n",
    "    plt.show()\n",
    "    print(f'model uncertaity AUC: {roc_auc_score(outcome_lst, model_uncertainty_lst):.4f}')\n",
    "    print(f'data uncertainty AUC: {roc_auc_score(outcome_lst, data_uncertainty_lst):.4f}')"
   ]
  },
  {
   "cell_type": "code",
   "execution_count": 231,
   "metadata": {},
   "outputs": [
    {
     "data": {
      "image/png": "[encoded data removed]",
      "text/plain": [
       "<Figure size 432x288 with 1 Axes>"
      ]
     },
     "metadata": {
      "needs_background": "light"
     },
     "output_type": "display_data"
    },
    {
     "name": "stdout",
     "output_type": "stream",
     "text": [
      "model uncertaity AUC: 0.5125\n",
      "data uncertainty AUC: 0.5484\n"
     ]
    }
   ],
   "source": [
    "plt_roc_auc(outcome_lst, model_uncertainty_lst, data_uncertainty_lst)"
   ]
  },
  {
   "cell_type": "code",
   "execution_count": null,
   "metadata": {},
   "outputs": [],
   "source": []
  },
  {
   "cell_type": "code",
   "execution_count": null,
   "metadata": {},
   "outputs": [],
   "source": []
  },
  {
   "cell_type": "code",
   "execution_count": null,
   "metadata": {},
   "outputs": [],
   "source": []
  },
  {
   "cell_type": "code",
   "execution_count": null,
   "metadata": {},
   "outputs": [],
   "source": []
  },
  {
   "cell_type": "code",
   "execution_count": 229,
   "metadata": {},
   "outputs": [
    {
     "data": {
      "image/png": "[encoded data removed]",
      "text/plain": [
       "<Figure size 432x288 with 1 Axes>"
      ]
     },
     "metadata": {
      "needs_background": "light"
     },
     "output_type": "display_data"
    },
    {
     "name": "stdout",
     "output_type": "stream",
     "text": [
      "model uncertaity AUR: 0.5125\n",
      "data uncertainty AUR: 0.5484\n"
     ]
    }
   ],
   "source": [
    "from sklearn.metrics import roc_curve, roc_auc_score\n",
    "\n",
    "fpr, tpr, _ = roc_curve(outcome_lst, model_uncertainty_lst)\n",
    "plt.plot(fpr, tpr, label='model uncertainty')\n",
    "plt.fill_between(fpr, tpr, 0, alpha=0.3)\n",
    "\n",
    "fpr, tpr, _ = roc_curve(outcome_lst, data_uncertainty_lst)\n",
    "plt.plot(fpr, tpr, label='data uncertainty')\n",
    "plt.fill_between(fpr, tpr, 0, alpha=0.3)\n",
    "\n",
    "plt.xlabel('FPR')\n",
    "plt.ylabel('TPR')\n",
    "plt.legend()\n",
    "plt.show()\n",
    "\n",
    "print(f'model uncertaity AUC: {roc_auc_score(outcome_lst, model_uncertainty_lst):.4f}')\n",
    "print(f'data uncertainty AUC: {roc_auc_score(outcome_lst, data_uncertainty_lst):.4f}')"
   ]
  },
  {
   "cell_type": "code",
   "execution_count": 216,
   "metadata": {},
   "outputs": [
    {
     "data": {
      "text/plain": [
       "[<matplotlib.lines.Line2D at 0x136608dd8>]"
      ]
     },
     "execution_count": 216,
     "metadata": {},
     "output_type": "execute_result"
    },
    {
     "data": {
      "image/png": "[encoded data removed]",
      "text/plain": [
       "<Figure size 432x288 with 2 Axes>"
      ]
     },
     "metadata": {
      "needs_background": "light"
     },
     "output_type": "display_data"
    }
   ],
   "source": [
    "from sklearn.neighbors import KernelDensity\n",
    "\n",
    "fig = plt.figure()\n",
    "ax1 = fig.add_subplot(111)\n",
    "ax1.hist(correct_data_un, alpha=0.3, label=\"correct\")\n",
    "ax1.hist(incorrect_data_un, alpha=0.3, label=\"error\")\n",
    "ax1.set_xlabel(\"model uncertainty\")\n",
    "ax1.set_ylabel(\"density\")\n",
    "plt.legend()\n",
    "ax2 = ax1.twinx()\n",
    "df_co = pd.DataFrame()\n",
    "df_co['correct'] = correct_data_un\n",
    "kde1 = KernelDensity(kernel='gaussian', bandwidth=0.035).fit(np.array(df_co['correct'][:,None]))\n",
    "x = np.linspace(0.1,1.1, 2000)[:,None]\n",
    "dens1 = kde1.score_samples(x)\n",
    "ax2.plot(x, np.exp(dens1))\n",
    "df_in = pd.DataFrame()\n",
    "df_in['incorrect'] = incorrect_data_un\n",
    "kde2 = KernelDensity(kernel='gaussian', bandwidth=0.035).fit(np.array(df_in['incorrect'][:,None]))\n",
    "dens2 = kde2.score_samples(x)\n",
    "ax2.plot(x, np.exp(dens2))"
   ]
  },
  {
   "cell_type": "code",
   "execution_count": null,
   "metadata": {},
   "outputs": [],
   "source": []
  },
  {
   "cell_type": "code",
   "execution_count": null,
   "metadata": {},
   "outputs": [],
   "source": []
  },
  {
   "cell_type": "code",
   "execution_count": null,
   "metadata": {},
   "outputs": [],
   "source": []
  },
  {
   "cell_type": "code",
   "execution_count": null,
   "metadata": {},
   "outputs": [],
   "source": []
  },
  {
   "cell_type": "code",
   "execution_count": null,
   "metadata": {},
   "outputs": [],
   "source": []
  },
  {
   "cell_type": "code",
   "execution_count": null,
   "metadata": {},
   "outputs": [],
   "source": []
  },
  {
   "cell_type": "code",
   "execution_count": null,
   "metadata": {},
   "outputs": [],
   "source": []
  },
  {
   "cell_type": "code",
   "execution_count": null,
   "metadata": {},
   "outputs": [],
   "source": []
  },
  {
   "cell_type": "code",
   "execution_count": null,
   "metadata": {},
   "outputs": [],
   "source": []
  },
  {
   "cell_type": "code",
   "execution_count": null,
   "metadata": {},
   "outputs": [],
   "source": []
  },
  {
   "cell_type": "code",
   "execution_count": null,
   "metadata": {},
   "outputs": [],
   "source": []
  },
  {
   "cell_type": "code",
   "execution_count": null,
   "metadata": {},
   "outputs": [],
   "source": []
  },
  {
   "cell_type": "code",
   "execution_count": null,
   "metadata": {},
   "outputs": [],
   "source": []
  },
  {
   "cell_type": "code",
   "execution_count": null,
   "metadata": {},
   "outputs": [],
   "source": []
  },
  {
   "cell_type": "code",
   "execution_count": null,
   "metadata": {},
   "outputs": [],
   "source": []
  },
  {
   "cell_type": "code",
   "execution_count": null,
   "metadata": {},
   "outputs": [],
   "source": []
  },
  {
   "cell_type": "code",
   "execution_count": null,
   "metadata": {},
   "outputs": [],
   "source": []
  },
  {
   "cell_type": "code",
   "execution_count": null,
   "metadata": {},
   "outputs": [],
   "source": []
  },
  {
   "cell_type": "code",
   "execution_count": null,
   "metadata": {},
   "outputs": [],
   "source": []
  },
  {
   "cell_type": "code",
   "execution_count": null,
   "metadata": {},
   "outputs": [],
   "source": []
  },
  {
   "cell_type": "code",
   "execution_count": null,
   "metadata": {},
   "outputs": [],
   "source": []
  },
  {
   "cell_type": "code",
   "execution_count": null,
   "metadata": {},
   "outputs": [],
   "source": []
  },
  {
   "cell_type": "code",
   "execution_count": null,
   "metadata": {},
   "outputs": [],
   "source": []
  },
  {
   "cell_type": "code",
   "execution_count": null,
   "metadata": {},
   "outputs": [],
   "source": []
  },
  {
   "cell_type": "code",
   "execution_count": null,
   "metadata": {},
   "outputs": [],
   "source": []
  },
  {
   "cell_type": "code",
   "execution_count": null,
   "metadata": {},
   "outputs": [],
   "source": []
  },
  {
   "cell_type": "code",
   "execution_count": null,
   "metadata": {},
   "outputs": [],
   "source": []
  },
  {
   "cell_type": "code",
   "execution_count": null,
   "metadata": {},
   "outputs": [],
   "source": []
  },
  {
   "cell_type": "code",
   "execution_count": null,
   "metadata": {},
   "outputs": [],
   "source": []
  },
  {
   "cell_type": "code",
   "execution_count": null,
   "metadata": {},
   "outputs": [],
   "source": []
  },
  {
   "cell_type": "code",
   "execution_count": null,
   "metadata": {},
   "outputs": [],
   "source": []
  }
 ],
 "metadata": {
  "kernelspec": {
   "display_name": "Python 3.6.8 64-bit ('3.6.8')",
   "language": "python",
   "name": "python3"
  },
  "language_info": {
   "codemirror_mode": {
    "name": "ipython",
    "version": 3
   },
   "file_extension": ".py",
   "mimetype": "text/x-python",
   "name": "python",
   "nbconvert_exporter": "python",
   "pygments_lexer": "ipython3",
   "version": "3.6.8"
  },
  "orig_nbformat": 4,
  "vscode": {
   "interpreter": {
    "hash": "70c8b2be1be7f95516685a3aab88f52150aa6757b644af8cbdbd36a090e1cf81"
   }
  }
 },
 "nbformat": 4,
 "nbformat_minor": 2
}
